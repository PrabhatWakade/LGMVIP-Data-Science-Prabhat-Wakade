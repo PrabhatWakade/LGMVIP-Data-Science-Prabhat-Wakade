{
 "cells": [
  {
   "cell_type": "markdown",
   "id": "9c8d6554",
   "metadata": {},
   "source": [
    "# Lets Grow More (LGMVIP) - \"DATA SCIENCE INTERN\"\n",
    "# LGMVIP MAY-22"
   ]
  },
  {
   "cell_type": "markdown",
   "id": "1b028119",
   "metadata": {},
   "source": [
    "## AUTHOR - PRABHAT WAKADE\n",
    "## BEGINNER LEVEL TASK"
   ]
  },
  {
   "cell_type": "markdown",
   "id": "40b70c2b",
   "metadata": {},
   "source": [
    "## TASK-3- Image to Pencil Sketch with Python:"
   ]
  },
  {
   "cell_type": "markdown",
   "id": "e8135856",
   "metadata": {},
   "source": [
    "### We need to read the image in RBG format and then convert it to a grayscale image. This will turn an image into a classic black and white photo. Then the next thing to do is invert the grayscale image also called negative image, this will be our inverted grayscale image. Inversion can be used to enhance details. Then we can finally create the pencil sketch by mixing the grayscale image with the inverted blurry image. This can be done by dividing the grayscale image by the inverted blurry image. Since images are just arrays, we can easily do this programmatically using the divide function from the cv2 library in Python. "
   ]
  },
  {
   "cell_type": "markdown",
   "id": "e2497106",
   "metadata": {},
   "source": [
    "## For this task I am using two images "
   ]
  },
  {
   "cell_type": "markdown",
   "id": "d6ed2c40",
   "metadata": {},
   "source": [
    "## Importing OpenCV2 library"
   ]
  },
  {
   "cell_type": "code",
   "execution_count": 1,
   "id": "667b1ab3",
   "metadata": {},
   "outputs": [],
   "source": [
    "import cv2"
   ]
  },
  {
   "cell_type": "code",
   "execution_count": 2,
   "id": "59025183",
   "metadata": {},
   "outputs": [
    {
     "data": {
      "text/plain": [
       "-1"
      ]
     },
     "execution_count": 2,
     "metadata": {},
     "output_type": "execute_result"
    }
   ],
   "source": [
    "image1 = cv2.imread(\"20170716_093140.jpg\")\n",
    "cv2.imshow(\"20170716_093140\", image1)\n",
    "cv2.waitKey(0)"
   ]
  },
  {
   "cell_type": "code",
   "execution_count": 4,
   "id": "1b60b214",
   "metadata": {},
   "outputs": [
    {
     "data": {
      "text/plain": [
       "-1"
      ]
     },
     "execution_count": 4,
     "metadata": {},
     "output_type": "execute_result"
    }
   ],
   "source": [
    "image2 = cv2.imread(\"pic.jfif\")\n",
    "cv2.imshow(\"pic\", image2)\n",
    "cv2.waitKey(0)"
   ]
  },
  {
   "cell_type": "markdown",
   "id": "39ad04b2",
   "metadata": {},
   "source": [
    "## Creating a new image by converting the original image to greyscale"
   ]
  },
  {
   "cell_type": "code",
   "execution_count": 5,
   "id": "fb990e41",
   "metadata": {},
   "outputs": [
    {
     "data": {
      "text/plain": [
       "-1"
      ]
     },
     "execution_count": 5,
     "metadata": {},
     "output_type": "execute_result"
    }
   ],
   "source": [
    "gray_image1 = cv2.cvtColor(image1, cv2.COLOR_BGR2GRAY)\n",
    "cv2.imshow(\"New Beautiful Bird\", gray_image1)\n",
    "cv2.waitKey(0)"
   ]
  },
  {
   "cell_type": "code",
   "execution_count": 6,
   "id": "42370f55",
   "metadata": {},
   "outputs": [
    {
     "data": {
      "text/plain": [
       "-1"
      ]
     },
     "execution_count": 6,
     "metadata": {},
     "output_type": "execute_result"
    }
   ],
   "source": [
    "gray_image2 = cv2.cvtColor(image2, cv2.COLOR_BGR2GRAY)\n",
    "cv2.imshow(\"New Baby girl\", gray_image2)\n",
    "cv2.waitKey(0)"
   ]
  },
  {
   "cell_type": "markdown",
   "id": "a9092a6d",
   "metadata": {},
   "source": [
    "## Inverting the new grayscale image"
   ]
  },
  {
   "cell_type": "code",
   "execution_count": 7,
   "id": "865b6162",
   "metadata": {},
   "outputs": [
    {
     "data": {
      "text/plain": [
       "-1"
      ]
     },
     "execution_count": 7,
     "metadata": {},
     "output_type": "execute_result"
    }
   ],
   "source": [
    "inverted_image1 = 255 - gray_image1\n",
    "cv2.imshow(\"Inverted1\", inverted_image1)\n",
    "cv2.waitKey()"
   ]
  },
  {
   "cell_type": "code",
   "execution_count": 8,
   "id": "638f4182",
   "metadata": {},
   "outputs": [
    {
     "data": {
      "text/plain": [
       "-1"
      ]
     },
     "execution_count": 8,
     "metadata": {},
     "output_type": "execute_result"
    }
   ],
   "source": [
    "inverted_image2 = 255 - gray_image2\n",
    "cv2.imshow(\"Inverted2\", inverted_image2)\n",
    "cv2.waitKey()"
   ]
  },
  {
   "cell_type": "markdown",
   "id": "8f618547",
   "metadata": {},
   "source": [
    "## Bluring the image by using the Gaussian Function in OpenCV"
   ]
  },
  {
   "cell_type": "code",
   "execution_count": 9,
   "id": "56f91daa",
   "metadata": {},
   "outputs": [],
   "source": [
    "blurred1 = cv2.GaussianBlur(inverted_image1, (21, 21), 0)"
   ]
  },
  {
   "cell_type": "code",
   "execution_count": 10,
   "id": "fc987794",
   "metadata": {},
   "outputs": [],
   "source": [
    "blurred2 = cv2.GaussianBlur(inverted_image2, (21, 21), 0)"
   ]
  },
  {
   "cell_type": "markdown",
   "id": "2486c3db",
   "metadata": {},
   "source": [
    "## Inverting the blurred image and then we can easily convert the image into a pencil sketch"
   ]
  },
  {
   "cell_type": "code",
   "execution_count": 11,
   "id": "4d5a5d29",
   "metadata": {},
   "outputs": [
    {
     "data": {
      "text/plain": [
       "-1"
      ]
     },
     "execution_count": 11,
     "metadata": {},
     "output_type": "execute_result"
    }
   ],
   "source": [
    "inverted_blurred1 = 255 - blurred1\n",
    "pencil_sketch1 = cv2.divide(gray_image1, inverted_blurred1, scale=256.0)\n",
    "cv2.imshow(\"Sketch1\", pencil_sketch1)\n",
    "cv2.waitKey(0)"
   ]
  },
  {
   "cell_type": "code",
   "execution_count": 12,
   "id": "53526fc4",
   "metadata": {},
   "outputs": [
    {
     "data": {
      "text/plain": [
       "-1"
      ]
     },
     "execution_count": 12,
     "metadata": {},
     "output_type": "execute_result"
    }
   ],
   "source": [
    "inverted_blurred2 = 255 - blurred2\n",
    "pencil_sketch2 = cv2.divide(gray_image2, inverted_blurred2, scale=256.0)\n",
    "cv2.imshow(\"Sketch2\", pencil_sketch2)\n",
    "cv2.waitKey(0)\n"
   ]
  },
  {
   "cell_type": "markdown",
   "id": "6e8853e8",
   "metadata": {},
   "source": [
    "## looking at both the original image and the pencil sketch"
   ]
  },
  {
   "cell_type": "code",
   "execution_count": 13,
   "id": "d37bcd97",
   "metadata": {},
   "outputs": [
    {
     "data": {
      "text/plain": [
       "-1"
      ]
     },
     "execution_count": 13,
     "metadata": {},
     "output_type": "execute_result"
    }
   ],
   "source": [
    "cv2.imshow(\"original image1\", image1)\n",
    "cv2.imshow(\"pencil sketch1\", pencil_sketch1)\n",
    "cv2.waitKey(0)"
   ]
  },
  {
   "cell_type": "code",
   "execution_count": 14,
   "id": "2b278a63",
   "metadata": {},
   "outputs": [
    {
     "data": {
      "text/plain": [
       "-1"
      ]
     },
     "execution_count": 14,
     "metadata": {},
     "output_type": "execute_result"
    }
   ],
   "source": [
    "cv2.imshow(\"original image2\", image2)\n",
    "cv2.imshow(\"pencil sketch2\", pencil_sketch2)\n",
    "cv2.waitKey(0)"
   ]
  },
  {
   "cell_type": "code",
   "execution_count": null,
   "id": "997976c8",
   "metadata": {},
   "outputs": [],
   "source": []
  }
 ],
 "metadata": {
  "kernelspec": {
   "display_name": "Python 3 (ipykernel)",
   "language": "python",
   "name": "python3"
  },
  "language_info": {
   "codemirror_mode": {
    "name": "ipython",
    "version": 3
   },
   "file_extension": ".py",
   "mimetype": "text/x-python",
   "name": "python",
   "nbconvert_exporter": "python",
   "pygments_lexer": "ipython3",
   "version": "3.10.1"
  }
 },
 "nbformat": 4,
 "nbformat_minor": 5
}
